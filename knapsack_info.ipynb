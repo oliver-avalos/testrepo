{
 "cells": [
  {
   "attachments": {
    "image-3.png": {
     "image/png": "[encoded data removed]"
    }
   },
   "cell_type": "markdown",
   "metadata": {},
   "source": [
    "# MILP formulation for knapsack problem: \n",
    "## Guroby + Python\n",
    "The knapsack problem is a problem in combinatorial optimization: Given a set of items, each with a weight and a value, determine the number of each item to include in a collection so that the total weight is less than or equal to a given limit and the total value is as large as possible.\n",
    "\n",
    "The most common problem being solved is the 0-1 knapsack problem, which restricts the number 𝑥_𝑖  of copies of each kind of item to zero or one. Given a set of n items numbered from 1 to n, each with a weight 𝑤_𝑖  and a value 𝑣_𝑖, along with a maximum weight capacity 𝑊.\n",
    "![image-3.png](attachment:image-3.png)"
   ]
  },
  {
   "cell_type": "markdown",
   "metadata": {},
   "source": [
    "1. The first step is to load the data and/or construct an instance of the problem"
   ]
  },
  {
   "cell_type": "code",
   "execution_count": null,
   "metadata": {},
   "outputs": [],
   "source": [
    "from random import seed\n",
    "from random import randint\n",
    "n_obj=15\n",
    "cap=100.0\n",
    "val =[]\n",
    "wei =[]\n",
    "for i in range(n_obj):\n",
    "    val.append(randint(5,15))\n",
    "    wei.append(randint(1, 100))\n",
    "print(val)\n",
    "print(wei)"
   ]
  },
  {
   "cell_type": "markdown",
   "metadata": {},
   "source": [
    "2. The second step is to define variables, objective and constraints of the model"
   ]
  },
  {
   "cell_type": "code",
   "execution_count": null,
   "metadata": {},
   "outputs": [],
   "source": [
    "import gurobipy as gp\n",
    "from gurobipy import GRB\n",
    "\n",
    "m = gp.Model(\"knapsack\")\n",
    "\n",
    "# x[i] will be the name of the variable in the formulation when you print the model or when you print the variables\n",
    "# obj_var[i] is the name of the variable used internally by python to construct and manipulate the formulation\n",
    "ind_objs = range(n_obj)\n",
    "obj_var = m.addVars(ind_objs, vtype= GRB.BINARY, obj=val, name = \"x\")  \n",
    "\n",
    "m.modelSense = GRB.MAXIMIZE\n",
    "m.addConstr((gp.quicksum(wei[i]*obj_var[i] for i in ind_objs) <= cap), \"cap\")\n",
    "\n",
    "# if one doesn't define the objective value coeficients when define a variable, then one must define the objective \n",
    "#funtion at this point "
   ]
  },
  {
   "cell_type": "markdown",
   "metadata": {},
   "source": [
    "3. Optionally, we can write the model to lp format if we want see the model in a more known written fashion \n"
   ]
  },
  {
   "cell_type": "code",
   "execution_count": null,
   "metadata": {},
   "outputs": [],
   "source": [
    "m.write('knapsack.lp')"
   ]
  },
  {
   "cell_type": "markdown",
   "metadata": {},
   "source": [
    "4. We optimize the model"
   ]
  },
  {
   "cell_type": "code",
   "execution_count": null,
   "metadata": {},
   "outputs": [],
   "source": [
    "m.optimize()"
   ]
  },
  {
   "cell_type": "markdown",
   "metadata": {},
   "source": [
    "5. Print the values taken by the variables"
   ]
  },
  {
   "cell_type": "code",
   "execution_count": null,
   "metadata": {},
   "outputs": [],
   "source": [
    "for v in m.getVars():\n",
    "        print('%s %g' % (v.varName, v.x))\n",
    "\n",
    "print('Obj: %g' % m.objVal)"
   ]
  },
  {
   "cell_type": "code",
   "execution_count": null,
   "metadata": {},
   "outputs": [],
   "source": []
  }
 ],
 "metadata": {
  "kernelspec": {
   "display_name": "Python 3",
   "language": "python",
   "name": "python3"
  },
  "language_info": {
   "codemirror_mode": {
    "name": "ipython",
    "version": 3
   },
   "file_extension": ".py",
   "mimetype": "text/x-python",
   "name": "python",
   "nbconvert_exporter": "python",
   "pygments_lexer": "ipython3",
   "version": "3.8.5"
  }
 },
 "nbformat": 4,
 "nbformat_minor": 4
}
